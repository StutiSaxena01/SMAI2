{
 "cells": [
  {
   "cell_type": "markdown",
   "metadata": {},
   "source": [
    "You need to implement Logistic Regression from scratch in this question"
   ]
  },
  {
   "cell_type": "markdown",
   "metadata": {},
   "source": [
    "1. You are provided with the dataset of sign language digits. Implement logistic regression from scratch to classify the images provided in the dataset. Load the dataset and perform splitting into training and test sets with 70:30 ratio randomly using test train split.\n",
    "2. Plot a diagram for the sigmoid function. This is used for binary classi\u0000cation. How do you modify it for multilabel dataset classification problems? State and Explain the methods used.\n",
    "3. Use both one vs all and one vs one method for the above problem statement purpose.\n",
    "4. Also get results using Log Reg from scikit learn.\n",
    "5. Report accuracy score, Confusion matrix and any other metrics you feel useful and Compare the results - from all the three.\n",
    "\n",
    "\n",
    "\n",
    "[BONUS]\n",
    "6. Display few pictures with their predicted and original labels \n",
    "7. Do the results differ? State the reasons why it is so.\n"
   ]
  },
  {
   "cell_type": "markdown",
   "metadata": {},
   "source": [
    "dataset link : \n",
    "https://iiitaphyd-my.sharepoint.com/:f:/g/personal/apurva_jadhav_students_iiit_ac_in/Eictt5_qmoxNqezgQQiMWeIBph4sxlfA6jWAJNPnV2SF9Q?e=mQmYN0 \n",
    "\n",
    "                "
   ]
  },
  {
   "cell_type": "code",
   "execution_count": 1,
   "metadata": {},
   "outputs": [],
   "source": [
    "# import libraries\n",
    "import numpy as np\n",
    "from sklearn.model_selection import train_test_split\n",
    "import matplotlib.pyplot as plt"
   ]
  },
  {
   "cell_type": "markdown",
   "metadata": {},
   "source": [
    "### Plot : Sigmoid Function"
   ]
  },
  {
   "cell_type": "code",
   "execution_count": 2,
   "metadata": {},
   "outputs": [
    {
     "data": {
      "image/png": "[encoded data removed]",
      "text/plain": [
       "<Figure size 432x288 with 1 Axes>"
      ]
     },
     "metadata": {
      "needs_background": "light"
     },
     "output_type": "display_data"
    }
   ],
   "source": [
    "#plot for sigmoid function\n",
    "def sigmoid(z):\n",
    "    return 1/(1 + np.exp(-z))\n",
    "\n",
    "x = np.linspace(-20, 20, 50)\n",
    "y = sigmoid(x)\n",
    "plt.plot(x,y)\n",
    "plt.xlabel('x')\n",
    "plt.ylabel('sigmoid(x)')\n",
    "plt.show()"
   ]
  },
  {
   "cell_type": "code",
   "execution_count": 3,
   "metadata": {},
   "outputs": [],
   "source": [
    "# load dataset\n",
    "x_l = np.load(\"X.npy\") # image\n",
    "y_l = np.load(\"Y.npy\") # label"
   ]
  },
  {
   "cell_type": "markdown",
   "metadata": {},
   "source": [
    "### Logistic Regression"
   ]
  },
  {
   "cell_type": "code",
   "execution_count": 14,
   "metadata": {},
   "outputs": [],
   "source": [
    "def init_w_b(cols):\n",
    "    w = np.full((cols,),0.05)\n",
    "    b = 0.05\n",
    "    return w,b\n",
    "\n",
    "def sigmoid(z):\n",
    "    return 1/(1 + np.exp(-z))\n",
    "\n",
    "def train_ovr(x_train,y_train,l_rate,num_itr):\n",
    "    r,c = x_train.shape\n",
    "    rows,classes = y_train.shape\n",
    "    weights = []\n",
    "    for j in range(classes):\n",
    "        w, b = init_w_b(c)\n",
    "        for i in range(num_itr):\n",
    "\n",
    "            z= np.dot(x_train,w)+b\n",
    "            y_pred = sigmoid(z)\n",
    "            \n",
    "            loss = -y_train[:,j]*np.log(y_pred)-(1-y_train[:,j])*np.log(1-y_pred)\n",
    "            cost = (np.sum(loss))/c\n",
    "\n",
    "            error = (y_pred-y_train[:,j])\n",
    "            \n",
    "            dw = np.dot(x_train.T,error)/r\n",
    "            db = np.sum(y_pred-y_train[:,j])/r\n",
    "\n",
    "            w = w - (l_rate*dw)\n",
    "            b = b - (l_rate*db)\n",
    "        \n",
    "        weights.append([w,b])\n",
    "    weights = np.array(weights,dtype='object')\n",
    "    print(weights.shape)\n",
    "    return weights\n",
    "\n",
    "\n",
    "def predict_ovr(x_test,weights):\n",
    "    classes,_ = weights.shape\n",
    "    Y_prediction=[]\n",
    "    for i in range(classes):\n",
    "        w = weights[i][0]\n",
    "        b = weights[i][1]\n",
    "\n",
    "        z= sigmoid(np.dot(x_test,w.T)+b)\n",
    "        Y_prediction.append(z)\n",
    "    \n",
    "    Y_prediction=np.array(Y_prediction)\n",
    "    \n",
    "    pred = np.zeros_like(Y_prediction.T)\n",
    "    \n",
    "    x=[]\n",
    "    for i in range(len(Y_prediction.T)):\n",
    "        x.append(i)\n",
    "    y=np.argmax(Y_prediction.T,axis =1)\n",
    "    pred[x,y]=1\n",
    "\n",
    "    return pred\n",
    "\n",
    "def train_ovo(x_train,y_train,l_rate,num_itr):\n",
    "    r,c = x_train.shape\n",
    "    rows,classes = y_train.shape\n",
    "    weights=[]\n",
    "   \n",
    "    for k1 in range(classes): \n",
    "        final_weights=[]\n",
    "        for k2 in range(k1+1,classes):\n",
    "            \n",
    "            k1_true  = np.where(y_train[:,k1]==1,True,False)\n",
    "            k2_true = np.where(y_train[:,k2]==1,True,False)\n",
    "            \n",
    "            \n",
    "            sel_list = np.logical_or(k1_true,k2_true)\n",
    "            x_train= x_train[sel_list,:]\n",
    "            y_train= y_train[sel_list,:]\n",
    "            \n",
    "            w,b = init_w_b(c)\n",
    "            for i in range(num_itr):\n",
    "\n",
    "                z= np.dot(x_train,w)+b\n",
    "                y_pred = sigmoid(z)\n",
    "\n",
    "                error = (y_pred-y_train[:,k2])\n",
    "\n",
    "                dw = np.dot(x_train.T,error)/r\n",
    "                db = np.sum(y_pred-y_train[:,k2])/r\n",
    "\n",
    "                w = w - (l_rate*dw)\n",
    "                b = b - (l_rate*db)\n",
    "\n",
    "            weights.append([w,b])\n",
    "    weights = np.array(weights,dtype='object')\n",
    "    return weights\n",
    "            \n",
    "            \n",
    "def predict_ovo(x_test,weights):\n",
    "    classes,_ = weights.shape\n",
    "    Y_prediction=[]\n",
    "    for r in range(x_test.shape[0]):\n",
    "        for i in range(classes):\n",
    "            for j in range(i+1,classes):\n",
    "                w = weights[i][0]\n",
    "                b = weights[i][1]\n",
    "                z= sigmoid(np.dot(x_test,w.T)+b)\n",
    "        "
   ]
  },
  {
   "cell_type": "code",
   "execution_count": 5,
   "metadata": {},
   "outputs": [],
   "source": [
    "# train-test split (70:30)\n",
    "X_train, X_test, y_train, y_test = train_test_split(x_l, y_l, test_size=0.30, random_state=42)"
   ]
  },
  {
   "cell_type": "code",
   "execution_count": 6,
   "metadata": {},
   "outputs": [
    {
     "name": "stdout",
     "output_type": "stream",
     "text": [
      "(1443, 4096)\n",
      "(619, 4096)\n"
     ]
    }
   ],
   "source": [
    "x_train = X_train.reshape(X_train.shape[0],X_train.shape[1]*X_train.shape[2])\n",
    "print(x_train.shape)\n",
    "x_test = X_test.reshape(X_test.shape[0],X_test.shape[1]*X_test.shape[2])\n",
    "print(x_test.shape)"
   ]
  },
  {
   "cell_type": "code",
   "execution_count": 8,
   "metadata": {},
   "outputs": [
    {
     "name": "stderr",
     "output_type": "stream",
     "text": [
      "<ipython-input-4-e0d442e64b11>:20: RuntimeWarning: divide by zero encountered in log\n",
      "  loss = -y_train[:,j]*np.log(y_pred)-(1-y_train[:,j])*np.log(1-y_pred)\n",
      "<ipython-input-4-e0d442e64b11>:20: RuntimeWarning: invalid value encountered in multiply\n",
      "  loss = -y_train[:,j]*np.log(y_pred)-(1-y_train[:,j])*np.log(1-y_pred)\n"
     ]
    },
    {
     "ename": "KeyboardInterrupt",
     "evalue": "",
     "output_type": "error",
     "traceback": [
      "\u001b[0;31m---------------------------------------------------------------------------\u001b[0m",
      "\u001b[0;31mKeyboardInterrupt\u001b[0m                         Traceback (most recent call last)",
      "\u001b[0;32m<ipython-input-8-5c5cf12f1d5c>\u001b[0m in \u001b[0;36m<module>\u001b[0;34m\u001b[0m\n\u001b[0;32m----> 1\u001b[0;31m \u001b[0mweights\u001b[0m \u001b[0;34m=\u001b[0m \u001b[0mtrain_ovr\u001b[0m\u001b[0;34m(\u001b[0m\u001b[0mx_train\u001b[0m\u001b[0;34m,\u001b[0m\u001b[0my_train\u001b[0m\u001b[0;34m,\u001b[0m\u001b[0;36m0.01\u001b[0m\u001b[0;34m,\u001b[0m\u001b[0;36m1000\u001b[0m\u001b[0;34m)\u001b[0m\u001b[0;34m\u001b[0m\u001b[0;34m\u001b[0m\u001b[0m\n\u001b[0m\u001b[1;32m      2\u001b[0m \u001b[0mpred\u001b[0m \u001b[0;34m=\u001b[0m \u001b[0mpredict_ovr\u001b[0m\u001b[0;34m(\u001b[0m\u001b[0mx_test\u001b[0m\u001b[0;34m,\u001b[0m\u001b[0mweights\u001b[0m\u001b[0;34m)\u001b[0m\u001b[0;34m\u001b[0m\u001b[0;34m\u001b[0m\u001b[0m\n",
      "\u001b[0;32m<ipython-input-4-e0d442e64b11>\u001b[0m in \u001b[0;36mtrain_ovr\u001b[0;34m(x_train, y_train, l_rate, num_itr)\u001b[0m\n\u001b[1;32m     15\u001b[0m         \u001b[0;32mfor\u001b[0m \u001b[0mi\u001b[0m \u001b[0;32min\u001b[0m \u001b[0mrange\u001b[0m\u001b[0;34m(\u001b[0m\u001b[0mnum_itr\u001b[0m\u001b[0;34m)\u001b[0m\u001b[0;34m:\u001b[0m\u001b[0;34m\u001b[0m\u001b[0;34m\u001b[0m\u001b[0m\n\u001b[1;32m     16\u001b[0m \u001b[0;34m\u001b[0m\u001b[0m\n\u001b[0;32m---> 17\u001b[0;31m             \u001b[0mz\u001b[0m\u001b[0;34m=\u001b[0m \u001b[0mnp\u001b[0m\u001b[0;34m.\u001b[0m\u001b[0mdot\u001b[0m\u001b[0;34m(\u001b[0m\u001b[0mx_train\u001b[0m\u001b[0;34m,\u001b[0m\u001b[0mw\u001b[0m\u001b[0;34m)\u001b[0m\u001b[0;34m+\u001b[0m\u001b[0mb\u001b[0m\u001b[0;34m\u001b[0m\u001b[0;34m\u001b[0m\u001b[0m\n\u001b[0m\u001b[1;32m     18\u001b[0m             \u001b[0my_pred\u001b[0m \u001b[0;34m=\u001b[0m \u001b[0msigmoid\u001b[0m\u001b[0;34m(\u001b[0m\u001b[0mz\u001b[0m\u001b[0;34m)\u001b[0m\u001b[0;34m\u001b[0m\u001b[0;34m\u001b[0m\u001b[0m\n\u001b[1;32m     19\u001b[0m \u001b[0;34m\u001b[0m\u001b[0m\n",
      "\u001b[0;32m<__array_function__ internals>\u001b[0m in \u001b[0;36mdot\u001b[0;34m(*args, **kwargs)\u001b[0m\n",
      "\u001b[0;31mKeyboardInterrupt\u001b[0m: "
     ]
    }
   ],
   "source": [
    "weights = train_ovr(x_train,y_train,0.01,1000)\n",
    "pred = predict_ovr(x_test,weights)"
   ]
  },
  {
   "cell_type": "code",
   "execution_count": null,
   "metadata": {},
   "outputs": [],
   "source": [
    "weights = train_ovo(x_train,y_train,0.01,1000)\n",
    "# pred = predict_ovr(x_test,weights)\n",
    "print(weights)\n",
    "print(weight.shape)"
   ]
  },
  {
   "cell_type": "code",
   "execution_count": 11,
   "metadata": {},
   "outputs": [
    {
     "name": "stdout",
     "output_type": "stream",
     "text": [
      "(10,)\n"
     ]
    }
   ],
   "source": [
    "print(weights.shape)"
   ]
  },
  {
   "cell_type": "code",
   "execution_count": null,
   "metadata": {},
   "outputs": [],
   "source": [
    "from sklearn.metrics import accuracy_score,confusion_matrix\n",
    "yts = np.argmax(y_test,axis=1)\n",
    "y = np.argmax(y_train,axis=1)\n",
    "y_pred = np.argmax(pred,axis =1)\n",
    "print(accuracy_score(y_test,pred))\n",
    "print(confusion_matrix(yts,y_pred))"
   ]
  },
  {
   "cell_type": "code",
   "execution_count": null,
   "metadata": {},
   "outputs": [],
   "source": [
    "from sklearn.linear_model import LogisticRegression\n",
    "o = LogisticRegression(multi_class = 'ovr',solver ='liblinear',max_iter = 1000)\n",
    "ob = o.fit(x_train,y)\n",
    "pred = ob.predict(x_test)\n",
    "print(accuracy_score(yts,pred))\n",
    "print(confusion_matrix(yts,pred))"
   ]
  }
 ],
 "metadata": {
  "kernelspec": {
   "display_name": "Python 3",
   "language": "python",
   "name": "python3"
  },
  "language_info": {
   "codemirror_mode": {
    "name": "ipython",
    "version": 3
   },
   "file_extension": ".py",
   "mimetype": "text/x-python",
   "name": "python",
   "nbconvert_exporter": "python",
   "pygments_lexer": "ipython3",
   "version": "3.8.5"
  }
 },
 "nbformat": 4,
 "nbformat_minor": 4
}
